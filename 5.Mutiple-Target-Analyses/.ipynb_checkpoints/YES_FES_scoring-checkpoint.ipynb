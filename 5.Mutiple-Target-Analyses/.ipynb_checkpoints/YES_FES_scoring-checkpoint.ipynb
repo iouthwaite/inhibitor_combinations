{
 "cells": [
  {
   "cell_type": "code",
   "execution_count": 26,
   "id": "3b4a971c",
   "metadata": {
    "scrolled": true
   },
   "outputs": [
    {
     "name": "stdout",
     "output_type": "stream",
     "text": [
      "5\n",
      "5\n",
      "5\n",
      "5\n"
     ]
    }
   ],
   "source": [
    "import pandas as pd\n",
    "import numpy as np\n",
    "from scipy import stats\n",
    "import matplotlib.pyplot as plt\n",
    "import os\n",
    "\n",
    "def import_from_excel(e_file, filename):\n",
    "    kinase_targets = e_file['kinase target'].tolist()[0] #just the top score\n",
    "    JS_scores = e_file['JS Distance Score'].tolist()[0] #just the top score\n",
    "    #off_targets = e_file['off-target %inhibition values'].tolist()\n",
    "    mu = int(filename.split('.')[0].split('_')[-2])\n",
    "    return [mu, kinase_targets, JS_scores] #off_targets]\n",
    "\n",
    "test_results_200 = []\n",
    "test_results_700 = []\n",
    "\n",
    "test_results = {}\n",
    "\n",
    "for filename in os.listdir(os.getcwd()+'/results/'):\n",
    "    if filename[0] != '~':\n",
    "        f = './results/'+str(filename)\n",
    "        replicate_results = []\n",
    "        targets = ''\n",
    "        for x in range(1,4):\n",
    "            open_file = pd.read_excel(f, str(x), engine='openpyxl')\n",
    "            inhibitor_combination = import_from_excel(open_file, filename)\n",
    "            targets = inhibitor_combination[1]\n",
    "            replicate_results.append((x,inhibitor_combination))\n",
    "        if targets not in test_results:\n",
    "            test_results[targets] = [[],[]]\n",
    "        if replicate_results[0][1][0] == 200:\n",
    "            test_results[targets][0].append(replicate_results)\n",
    "            #test_results_200.append(replicate_results)\n",
    "        elif replicate_results[0][1][0] == 700:\n",
    "            test_results[targets][1].append(replicate_results)\n",
    "            #test_results_700.append(replicate_results)\n",
    "        \n",
    "#check to make sure we have 5 sets of results for each  \n",
    "for k in test_results:\n",
    "    print(len(test_results[k][0]))\n",
    "    print(len(test_results[k][1]))"
   ]
  },
  {
   "cell_type": "code",
   "execution_count": 56,
   "id": "20662ccf",
   "metadata": {},
   "outputs": [
    {
     "name": "stdout",
     "output_type": "stream",
     "text": [
      "YES_FES\n",
      "{'YES_FES': [[0.9022443857493129, 0.9018157754334722, 0.901063720606214, 0.9015250445034878, 0.9021191762390312], [0.8558940040132341, 0.856025770270688, 0.8565996068478162, 0.8570635810347951, 0.856890390807179], [0.8433859426293795, 0.842311768402843, 0.8421961594611304, 0.8416935773059567, 0.8423178785976548], [0.7906321925619958, 0.7890390929163142, 0.7901448253572666, 0.7915084328108642, 0.7918728927113866]]}\n"
     ]
    }
   ],
   "source": [
    "#sig results\n",
    "\n",
    "sig_results = {}\n",
    "\n",
    "for k in test_results:\n",
    "    res_200 = test_results[k][0]\n",
    "    res_700 = test_results[k][1]\n",
    "    \n",
    "    #get the average i=1score\n",
    "    i_1_200_vals = [r[0][1][2] for r in res_200 if r[0][0] == 1]\n",
    "    i_1_700_vals = [r[0][1][2] for r in res_700 if r[0][0] == 1]\n",
    "    \n",
    "    sig_200_scores = []\n",
    "    sig_700_scores = []\n",
    "    \n",
    "    sig_dist_200 = 0\n",
    "    sig_dist_700 = 0\n",
    "    \n",
    "    #get the vals at each higher combo number. test if sig. if so, save those vals\n",
    "    for i in range(1, len(res_200[0])):\n",
    "        i_vals = [r[i][1][2] for r in res_200]\n",
    "        #test if sig diff or not\n",
    "        tval, pval = stats.ttest_ind(i_1_200_vals, i_vals)\n",
    "        if (pval < 0.05) and (np.mean(i_1_200_vals)+0.001 < np.mean(i_vals)):\n",
    "            if np.mean(i_vals) - np.mean(i_1_200_vals) > sig_dist_200:\n",
    "                sig_200_scores = i_vals\n",
    "                sig_dist_200 = (np.mean(i_1_200_vals) - np.mean(i_vals))\n",
    "            \n",
    "    #get the vals at each higher combo number. test if sig. if so, save those vals\n",
    "    for i in range(1, len(res_700[0])):\n",
    "        i_vals = [r[i][1][2] for r in res_700]\n",
    "        #test if sig diff or not\n",
    "        tval, pval = stats.ttest_ind(i_1_700_vals, i_vals)\n",
    "        if (pval < 0.05) and (np.mean(i_1_700_vals)+0.001 < np.mean(i_vals)):\n",
    "            if np.mean(i_vals) - np.mean(i_1_700_vals) > sig_dist_700:\n",
    "                sig_700_scores = i_vals\n",
    "                sig_dist_700 = (np.mean(i_1_200_vals) - np.mean(i_vals))\n",
    "    \n",
    "    if sig_200_scores != [] or sig_700_scores != []:\n",
    "        knames = test_results[k][0][1][0][1][1]\n",
    "        knames = knames.strip('][').replace('\\'', '').replace(', ', '_')\n",
    "        sig_results[knames] = [sig_200_scores,sig_700_scores,i_1_200_vals,i_1_700_vals]\n",
    "        \n",
    "print(sig_results)\n",
    "            \n",
    "    "
   ]
  },
  {
   "cell_type": "code",
   "execution_count": 58,
   "id": "aaac6338",
   "metadata": {},
   "outputs": [
    {
     "data": {
      "image/png": "[encoded data removed]",
      "text/plain": [
       "<Figure size 432x288 with 1 Axes>"
      ]
     },
     "metadata": {
      "needs_background": "light"
     },
     "output_type": "display_data"
    }
   ],
   "source": [
    "#Get the names and delta score of all the significant results\n",
    "\n",
    "#Who are the kinases that showed statistically significant improvement?\n",
    "\n",
    "n700 = 0\n",
    "n200 = 0\n",
    "both = 0\n",
    "\n",
    "res = []\n",
    "for kres in sig_results:\n",
    "    sig_200_scores = sig_results[kres][0]\n",
    "    sig_700_scores = sig_results[kres][1]\n",
    "    i_1_200_vals = sig_results[kres][2]\n",
    "    i_1_700_vals = sig_results[kres][3]\n",
    "    sig=0\n",
    "    if sig_200_scores == []:\n",
    "        mu200 = 'N/A'\n",
    "    else:\n",
    "        sig+=1\n",
    "    if sig_700_scores == []:\n",
    "        mu700 = 'N/A'\n",
    "    else:\n",
    "        sig+=2\n",
    "    if sig>=1:\n",
    "        scolor = 'w'\n",
    "        if sig == 1:\n",
    "            n200 += 1\n",
    "            scolor = 'darkred'\n",
    "        if sig == 2:\n",
    "            n700 += 1\n",
    "            scolor = 'b'\n",
    "        if sig == 3:\n",
    "            both += 1\n",
    "            scolor = 'darkorange'\n",
    "            \n",
    "        mu200 = 0\n",
    "        mu700 = 0\n",
    "        if sig == 1 or sig == 3:\n",
    "            mu200 = np.mean(sig_200_scores) - np.mean(i_1_200_vals)\n",
    "        if sig == 2 or sig == 3:\n",
    "            mu700 = np.mean(sig_700_scores) - np.mean(i_1_700_vals)\n",
    "            \n",
    "        tscore = mu200+mu700\n",
    "            \n",
    "        res.append((tscore,kres,mu200,mu700,scolor))\n",
    "            \n",
    "tabled = []\n",
    "cell_color = []\n",
    "tabled.append(['Rank','Kinases','ΔJSD tight prior','ΔJSD medium prior'])\n",
    "cell_color.append(['w','w','w','w'])\n",
    "res = sorted(res, key=lambda x: x[0], reverse=True)\n",
    "counter = 1\n",
    "for k in res:\n",
    "    tabled.append([counter,k[1],round(k[2], 6),round(k[3],6)])\n",
    "    color_val = k[4]\n",
    "    cell_color.append([color_val,'w','w','w',])\n",
    "    counter+=1\n",
    "    \n",
    "fig, ax = plt.subplots()\n",
    "table = ax.table(cellText=tabled, loc='center',cellLoc='center',cellColours=cell_color)\n",
    "table.auto_set_font_size(False)\n",
    "table.auto_set_column_width(col=[0,1,2,3])\n",
    "table.set_fontsize(8)\n",
    "table.scale(1,1.2)\n",
    "ax.axis('off')\n",
    "plt.show()\n",
    "#fig.savefig(\"120821_PKIS2_JSD_700v200_45k_improvement_table.pdf\", bbox_inches='tight',dpi=500)"
   ]
  },
  {
   "cell_type": "code",
   "execution_count": null,
   "id": "994bf47a",
   "metadata": {},
   "outputs": [],
   "source": []
  }
 ],
 "metadata": {
  "kernelspec": {
   "display_name": "Python 3 (ipykernel)",
   "language": "python",
   "name": "python3"
  },
  "language_info": {
   "codemirror_mode": {
    "name": "ipython",
    "version": 3
   },
   "file_extension": ".py",
   "mimetype": "text/x-python",
   "name": "python",
   "nbconvert_exporter": "python",
   "pygments_lexer": "ipython3",
   "version": "3.9.4"
  }
 },
 "nbformat": 4,
 "nbformat_minor": 5
}
