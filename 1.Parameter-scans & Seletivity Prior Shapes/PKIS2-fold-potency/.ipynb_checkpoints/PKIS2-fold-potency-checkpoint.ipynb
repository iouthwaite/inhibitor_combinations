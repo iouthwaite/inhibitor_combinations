{
 "cells": [
  {
   "cell_type": "code",
   "execution_count": 1,
   "id": "3b4a971c",
   "metadata": {
    "scrolled": true
   },
   "outputs": [
    {
     "name": "stdout",
     "output_type": "stream",
     "text": [
      "298\n",
      "645\n",
      "347\n"
     ]
    },
    {
     "name": "stderr",
     "output_type": "stream",
     "text": [
      "/usr/local/lib/python3.9/site-packages/openpyxl/worksheet/_reader.py:312: UserWarning: Unknown extension is not supported and will be removed\n",
      "  warn(msg)\n"
     ]
    }
   ],
   "source": [
    "import pandas as pd\n",
    "import numpy as np\n",
    "from scipy import stats\n",
    "import matplotlib.pyplot as plt\n",
    "import os\n",
    "\n",
    "dataset=pd.read_excel(\"./PKIS2_dataset.xlsx\", engine='openpyxl', nrows=645)\n",
    "\n",
    "array = dataset[dataset.columns[7:]].to_numpy()\n",
    "\n",
    "num_maxed_out = 0\n",
    "fold_potency = []\n",
    "\n",
    "for i in array:\n",
    "    i.sort()\n",
    "    f_p = i[(len(i)-1)]/i[(len(i)-2)]\n",
    "    if (i[(len(i)-1)] == 100) and (i[(len(i)-2)] == 100):\n",
    "        num_maxed_out +=1\n",
    "    else:\n",
    "        fold_potency.append(f_p)\n",
    "print(num_maxed_out)\n",
    "print(len(array))\n",
    "print(len(fold_potency))"
   ]
  },
  {
   "cell_type": "code",
   "execution_count": 19,
   "id": "475e9361",
   "metadata": {},
   "outputs": [
    {
     "data": {
      "image/png": "[encoded data removed]",
      "text/plain": [
       "<Figure size 288x432 with 1 Axes>"
      ]
     },
     "metadata": {},
     "output_type": "display_data"
    }
   ],
   "source": [
    "import matplotlib.pyplot as plt\n",
    "import seaborn as sns\n",
    "\n",
    "fig = plt.figure(figsize=(4, 6))\n",
    "ax = fig.add_subplot(1,1,1)\n",
    "\n",
    "fold_potency.sort()\n",
    "x = [*range(0,len(fold_potency),1)]\n",
    "\n",
    "#plt.scatter(x, fold_potency, c='k', marker='o', s=8)\n",
    "\n",
    "plt.style.use('seaborn-ticks')\n",
    "\n",
    "def adjust_spines(ax, spines, offset):\n",
    "    for loc, spine in ax.spines.items():\n",
    "        if loc in spines:\n",
    "            spine.set_position(('outward', offset))\n",
    "            #spine.set_smart_bounds(True)\n",
    "        else:\n",
    "            spine.set_color('none') \n",
    "    if 'left' in spines:\n",
    "        ax.yaxis.set_ticks_position('left')\n",
    "    else:\n",
    "        ax.yaxis.set_ticks([])\n",
    "\n",
    "    if 'bottom' in spines:\n",
    "        ax.xaxis.set_ticks_position('bottom')\n",
    "    else:\n",
    "        ax.xaxis.set_ticks([])\n",
    "\n",
    "ax.hist(fold_potency, bins = 25, color = \"navy\")\n",
    "adjust_spines(ax, ['left', 'bottom'], 5)\n",
    "\n",
    "plt.xlabel('PKIS2 inhibitor fold-potency')\n",
    "\n",
    "plt.ylabel('Number of inhibitors')\n",
    "\n",
    "#plt.ylabel('Maximum Target Inhibition / Second-Most Target Inhibition')\n",
    "\n",
    "#plt.text(50, 1.8, 'n=347')\n",
    "\n",
    "#plt.title('Fold-potency of PKIS2 inhibitors')\n",
    "\n",
    "fig.savefig(\"013122_PKIS2-fold-potency.pdf\", bbox_inches='tight',dpi=1000)\n",
    "\n",
    "plt.show()"
   ]
  },
  {
   "cell_type": "code",
   "execution_count": null,
   "id": "29926a6e",
   "metadata": {},
   "outputs": [],
   "source": []
  }
 ],
 "metadata": {
  "kernelspec": {
   "display_name": "Python 3 (ipykernel)",
   "language": "python",
   "name": "python3"
  },
  "language_info": {
   "codemirror_mode": {
    "name": "ipython",
    "version": 3
   },
   "file_extension": ".py",
   "mimetype": "text/x-python",
   "name": "python",
   "nbconvert_exporter": "python",
   "pygments_lexer": "ipython3",
   "version": "3.9.13"
  }
 },
 "nbformat": 4,
 "nbformat_minor": 5
}
